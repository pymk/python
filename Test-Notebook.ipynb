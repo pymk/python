{
  "nbformat": 4,
  "nbformat_minor": 0,
  "metadata": {
    "colab": {
      "name": "Test-Notebook.ipynb",
      "provenance": [],
      "collapsed_sections": [],
      "authorship_tag": "ABX9TyNh8ddRcMHmtAfE4lt61//0",
      "include_colab_link": true
    },
    "kernelspec": {
      "name": "python3",
      "display_name": "Python 3"
    },
    "language_info": {
      "name": "python"
    }
  },
  "cells": [
    {
      "cell_type": "markdown",
      "metadata": {
        "id": "view-in-github",
        "colab_type": "text"
      },
      "source": [
        "<a href=\"https://colab.research.google.com/github/pymk/python/blob/master/Test-Notebook.ipynb\" target=\"_parent\"><img src=\"https://colab.research.google.com/assets/colab-badge.svg\" alt=\"Open In Colab\"/></a>"
      ]
    },
    {
      "cell_type": "code",
      "execution_count": 2,
      "metadata": {
        "id": "OjeUbOLfVD9w"
      },
      "outputs": [],
      "source": [
        "import pandas as pd"
      ]
    },
    {
      "cell_type": "code",
      "source": [
        "my_file = pd.read_table(\".config/logs/2022.05.03/13.41.17.129790.log\", sep='\\t', header=None)"
      ],
      "metadata": {
        "id": "OaSSR2bHVnpM"
      },
      "execution_count": 17,
      "outputs": []
    },
    {
      "cell_type": "code",
      "source": [
        "print(\n",
        "    my_file\n",
        "    .head()\n",
        ")"
      ],
      "metadata": {
        "colab": {
          "base_uri": "https://localhost:8080/"
        },
        "id": "cj9XsUrpVsO_",
        "outputId": "6b9c3536-8cd9-421b-fa32-f6afed1d21c6"
      },
      "execution_count": 19,
      "outputs": [
        {
          "output_type": "stream",
          "name": "stdout",
          "text": [
            "                                                   0\n",
            "0  2022-05-03 13:41:17,134 DEBUG    root         ...\n",
            "1  2022-05-03 13:41:17,138 DEBUG    root         ...\n",
            "2  2022-05-03 13:41:17,140 DEBUG    root         ...\n",
            "3  2022-05-03 13:41:17,147 INFO     ___FILE_ONLY_...\n",
            "4  2022-05-03 13:41:29,176 DEBUG    urllib3.conne...\n"
          ]
        }
      ]
    }
  ]
}