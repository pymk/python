{
  "nbformat": 4,
  "nbformat_minor": 0,
  "metadata": {
    "colab": {
      "name": "Test Notebook.ipynb",
      "provenance": [],
      "collapsed_sections": [],
      "authorship_tag": "ABX9TyONvLQswekIKYGmWbMIK6EB",
      "include_colab_link": true
    },
    "kernelspec": {
      "name": "python3",
      "display_name": "Python 3"
    },
    "language_info": {
      "name": "python"
    }
  },
  "cells": [
    {
      "cell_type": "markdown",
      "metadata": {
        "id": "view-in-github",
        "colab_type": "text"
      },
      "source": [
        "<a href=\"https://colab.research.google.com/github/pymk/python/blob/master/Test-Notebook.ipynb\" target=\"_parent\"><img src=\"https://colab.research.google.com/assets/colab-badge.svg\" alt=\"Open In Colab\"/></a>"
      ]
    },
    {
      "cell_type": "code",
      "execution_count": null,
      "metadata": {
        "id": "OjeUbOLfVD9w"
      },
      "outputs": [],
      "source": [
        "from pandas import pd"
      ]
    },
    {
      "cell_type": "code",
      "source": [
        "my_file = pd.read_csv()"
      ],
      "metadata": {
        "id": "OaSSR2bHVnpM"
      },
      "execution_count": null,
      "outputs": []
    },
    {
      "cell_type": "code",
      "source": [
        "print(\n",
        "    my_file\n",
        "    .query('day == Monday')\n",
        "    .head()\n",
        ")"
      ],
      "metadata": {
        "id": "cj9XsUrpVsO_"
      },
      "execution_count": null,
      "outputs": []
    }
  ]
}